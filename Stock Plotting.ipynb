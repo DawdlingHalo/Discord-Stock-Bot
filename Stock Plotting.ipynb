{
  "nbformat": 4,
  "nbformat_minor": 0,
  "metadata": {
    "colab": {
      "name": " Discord Stock Bot",
      "provenance": []
    },
    "kernelspec": {
      "name": "python3",
      "display_name": "Python 3"
    },
    "accelerator": "GPU"
  },
  "cells": [
    {
      "cell_type": "code",
      "metadata": {
        "colab": {
          "base_uri": "https://localhost:8080/"
        },
        "id": "0eUeTup6kMJW",
        "outputId": "aa4b0c8d-4a89-48ff-ca74-77981f2dd28e"
      },
      "source": [
        "pip install yfinance --upgrade --no-cache-dir"
      ],
      "execution_count": null,
      "outputs": [
        {
          "output_type": "stream",
          "text": [
            "Requirement already up-to-date: yfinance in /usr/local/lib/python3.6/dist-packages (0.1.55)\n",
            "Requirement already satisfied, skipping upgrade: pandas>=0.24 in /usr/local/lib/python3.6/dist-packages (from yfinance) (1.1.4)\n",
            "Requirement already satisfied, skipping upgrade: multitasking>=0.0.7 in /usr/local/lib/python3.6/dist-packages (from yfinance) (0.0.9)\n",
            "Requirement already satisfied, skipping upgrade: requests>=2.20 in /usr/local/lib/python3.6/dist-packages (from yfinance) (2.23.0)\n",
            "Requirement already satisfied, skipping upgrade: numpy>=1.15 in /usr/local/lib/python3.6/dist-packages (from yfinance) (1.18.5)\n",
            "Requirement already satisfied, skipping upgrade: lxml>=4.5.1 in /usr/local/lib/python3.6/dist-packages (from yfinance) (4.6.2)\n",
            "Requirement already satisfied, skipping upgrade: python-dateutil>=2.7.3 in /usr/local/lib/python3.6/dist-packages (from pandas>=0.24->yfinance) (2.8.1)\n",
            "Requirement already satisfied, skipping upgrade: pytz>=2017.2 in /usr/local/lib/python3.6/dist-packages (from pandas>=0.24->yfinance) (2018.9)\n",
            "Requirement already satisfied, skipping upgrade: chardet<4,>=3.0.2 in /usr/local/lib/python3.6/dist-packages (from requests>=2.20->yfinance) (3.0.4)\n",
            "Requirement already satisfied, skipping upgrade: certifi>=2017.4.17 in /usr/local/lib/python3.6/dist-packages (from requests>=2.20->yfinance) (2020.11.8)\n",
            "Requirement already satisfied, skipping upgrade: idna<3,>=2.5 in /usr/local/lib/python3.6/dist-packages (from requests>=2.20->yfinance) (2.10)\n",
            "Requirement already satisfied, skipping upgrade: urllib3!=1.25.0,!=1.25.1,<1.26,>=1.21.1 in /usr/local/lib/python3.6/dist-packages (from requests>=2.20->yfinance) (1.24.3)\n",
            "Requirement already satisfied, skipping upgrade: six>=1.5 in /usr/local/lib/python3.6/dist-packages (from python-dateutil>=2.7.3->pandas>=0.24->yfinance) (1.15.0)\n"
          ],
          "name": "stdout"
        }
      ]
    },
    {
      "cell_type": "code",
      "metadata": {
        "id": "IUwlii0Fkagx"
      },
      "source": [
        "import yfinance as yf"
      ],
      "execution_count": null,
      "outputs": []
    },
    {
      "cell_type": "code",
      "metadata": {
        "colab": {
          "base_uri": "https://localhost:8080/"
        },
        "id": "IsPCJJRHkf7l",
        "outputId": "7ec3e0ef-7ac0-408a-fe8e-be99c471b273"
      },
      "source": [
        "! wget https://www.dropbox.com/s/kouqkqjchn9n7uc/intraday%20stock.csv?dl=0"
      ],
      "execution_count": null,
      "outputs": [
        {
          "output_type": "stream",
          "text": [
            "--2020-12-05 20:45:14--  https://www.dropbox.com/s/kouqkqjchn9n7uc/intraday%20stock.csv?dl=0\n",
            "Resolving www.dropbox.com (www.dropbox.com)... 162.125.6.1, 2620:100:601c:1::a27d:601\n",
            "Connecting to www.dropbox.com (www.dropbox.com)|162.125.6.1|:443... connected.\n",
            "HTTP request sent, awaiting response... 301 Moved Permanently\n",
            "Location: /s/raw/kouqkqjchn9n7uc/intraday%20stock.csv [following]\n",
            "--2020-12-05 20:45:14--  https://www.dropbox.com/s/raw/kouqkqjchn9n7uc/intraday%20stock.csv\n",
            "Reusing existing connection to www.dropbox.com:443.\n",
            "HTTP request sent, awaiting response... 302 Found\n",
            "Location: https://uc04cef5b44aec8be274889ffa2a.dl.dropboxusercontent.com/cd/0/inline/BEjmkxtFTNwMWn1V0dEzxLjNEb0CygnNnIR_N16sDNhuPx0oDlb9VoLBqjY7KJ4c0w2hNKWavuHkkxK1ydh-7vn53j7ZLM0taQkZK1-eoRDf6FiCo9crxAplX-oUYGgbnmY/file# [following]\n",
            "--2020-12-05 20:45:14--  https://uc04cef5b44aec8be274889ffa2a.dl.dropboxusercontent.com/cd/0/inline/BEjmkxtFTNwMWn1V0dEzxLjNEb0CygnNnIR_N16sDNhuPx0oDlb9VoLBqjY7KJ4c0w2hNKWavuHkkxK1ydh-7vn53j7ZLM0taQkZK1-eoRDf6FiCo9crxAplX-oUYGgbnmY/file\n",
            "Resolving uc04cef5b44aec8be274889ffa2a.dl.dropboxusercontent.com (uc04cef5b44aec8be274889ffa2a.dl.dropboxusercontent.com)... 162.125.6.15, 2620:100:601c:15::a27d:60f\n",
            "Connecting to uc04cef5b44aec8be274889ffa2a.dl.dropboxusercontent.com (uc04cef5b44aec8be274889ffa2a.dl.dropboxusercontent.com)|162.125.6.15|:443... connected.\n",
            "HTTP request sent, awaiting response... 200 OK\n",
            "Length: 59029 (58K) [text/plain]\n",
            "Saving to: ‘intraday stock.csv?dl=0.1’\n",
            "\n",
            "intraday stock.csv? 100%[===================>]  57.65K  --.-KB/s    in 0.003s  \n",
            "\n",
            "2020-12-05 20:45:15 (21.6 MB/s) - ‘intraday stock.csv?dl=0.1’ saved [59029/59029]\n",
            "\n"
          ],
          "name": "stdout"
        }
      ]
    },
    {
      "cell_type": "code",
      "metadata": {
        "id": "FEGEo5lnlTFL"
      },
      "source": [
        "import numpy as np \n",
        "import pandas as pd\n",
        "import matplotlib.pyplot as plt"
      ],
      "execution_count": null,
      "outputs": []
    },
    {
      "cell_type": "code",
      "metadata": {
        "id": "0zwYm0IDlYy8"
      },
      "source": [
        "df_train = pd.read_csv(\"/content/intraday stock.csv?dl=0\")"
      ],
      "execution_count": null,
      "outputs": []
    },
    {
      "cell_type": "code",
      "metadata": {
        "colab": {
          "base_uri": "https://localhost:8080/"
        },
        "id": "kJHPTJnjxfC5",
        "outputId": "2d34fa07-00f0-481f-cbbd-c4ca6d8e7e79"
      },
      "source": [
        "df_train.columns"
      ],
      "execution_count": null,
      "outputs": [
        {
          "output_type": "execute_result",
          "data": {
            "text/plain": [
              "Index(['Date', 'Close'], dtype='object')"
            ]
          },
          "metadata": {
            "tags": []
          },
          "execution_count": 49
        }
      ]
    },
    {
      "cell_type": "code",
      "metadata": {
        "colab": {
          "base_uri": "https://localhost:8080/",
          "height": 204
        },
        "id": "l-1tVlDulfuL",
        "outputId": "bca95d45-040b-4daf-e50b-1a2fe305e5b8"
      },
      "source": [
        "df_train.head()\n"
      ],
      "execution_count": null,
      "outputs": [
        {
          "output_type": "execute_result",
          "data": {
            "text/html": [
              "<div>\n",
              "<style scoped>\n",
              "    .dataframe tbody tr th:only-of-type {\n",
              "        vertical-align: middle;\n",
              "    }\n",
              "\n",
              "    .dataframe tbody tr th {\n",
              "        vertical-align: top;\n",
              "    }\n",
              "\n",
              "    .dataframe thead th {\n",
              "        text-align: right;\n",
              "    }\n",
              "</style>\n",
              "<table border=\"1\" class=\"dataframe\">\n",
              "  <thead>\n",
              "    <tr style=\"text-align: right;\">\n",
              "      <th></th>\n",
              "      <th>Date</th>\n",
              "      <th>Close</th>\n",
              "    </tr>\n",
              "  </thead>\n",
              "  <tbody>\n",
              "    <tr>\n",
              "      <th>0</th>\n",
              "      <td>2020-06-01 09:31:00</td>\n",
              "      <td>317.5150</td>\n",
              "    </tr>\n",
              "    <tr>\n",
              "      <th>1</th>\n",
              "      <td>2020-06-01 09:32:00</td>\n",
              "      <td>317.8589</td>\n",
              "    </tr>\n",
              "    <tr>\n",
              "      <th>2</th>\n",
              "      <td>2020-06-01 09:33:00</td>\n",
              "      <td>318.5800</td>\n",
              "    </tr>\n",
              "    <tr>\n",
              "      <th>3</th>\n",
              "      <td>2020-06-01 09:34:00</td>\n",
              "      <td>318.1300</td>\n",
              "    </tr>\n",
              "    <tr>\n",
              "      <th>4</th>\n",
              "      <td>2020-06-01 09:35:00</td>\n",
              "      <td>318.0200</td>\n",
              "    </tr>\n",
              "  </tbody>\n",
              "</table>\n",
              "</div>"
            ],
            "text/plain": [
              "                  Date     Close\n",
              "0  2020-06-01 09:31:00  317.5150\n",
              "1  2020-06-01 09:32:00  317.8589\n",
              "2  2020-06-01 09:33:00  318.5800\n",
              "3  2020-06-01 09:34:00  318.1300\n",
              "4  2020-06-01 09:35:00  318.0200"
            ]
          },
          "metadata": {
            "tags": []
          },
          "execution_count": 6
        }
      ]
    },
    {
      "cell_type": "code",
      "metadata": {
        "colab": {
          "base_uri": "https://localhost:8080/",
          "height": 297
        },
        "id": "K8ZKj9gSlkSF",
        "outputId": "922281f7-0520-465c-f971-cbec78dc2244"
      },
      "source": [
        "df_train.describe()"
      ],
      "execution_count": null,
      "outputs": [
        {
          "output_type": "execute_result",
          "data": {
            "text/html": [
              "<div>\n",
              "<style scoped>\n",
              "    .dataframe tbody tr th:only-of-type {\n",
              "        vertical-align: middle;\n",
              "    }\n",
              "\n",
              "    .dataframe tbody tr th {\n",
              "        vertical-align: top;\n",
              "    }\n",
              "\n",
              "    .dataframe thead th {\n",
              "        text-align: right;\n",
              "    }\n",
              "</style>\n",
              "<table border=\"1\" class=\"dataframe\">\n",
              "  <thead>\n",
              "    <tr style=\"text-align: right;\">\n",
              "      <th></th>\n",
              "      <th>Close</th>\n",
              "    </tr>\n",
              "  </thead>\n",
              "  <tbody>\n",
              "    <tr>\n",
              "      <th>count</th>\n",
              "      <td>1943.000000</td>\n",
              "    </tr>\n",
              "    <tr>\n",
              "      <th>mean</th>\n",
              "      <td>323.809050</td>\n",
              "    </tr>\n",
              "    <tr>\n",
              "      <th>std</th>\n",
              "      <td>3.141389</td>\n",
              "    </tr>\n",
              "    <tr>\n",
              "      <th>min</th>\n",
              "      <td>317.515000</td>\n",
              "    </tr>\n",
              "    <tr>\n",
              "      <th>25%</th>\n",
              "      <td>321.630000</td>\n",
              "    </tr>\n",
              "    <tr>\n",
              "      <th>50%</th>\n",
              "      <td>323.250000</td>\n",
              "    </tr>\n",
              "    <tr>\n",
              "      <th>75%</th>\n",
              "      <td>324.905000</td>\n",
              "    </tr>\n",
              "    <tr>\n",
              "      <th>max</th>\n",
              "      <td>331.670000</td>\n",
              "    </tr>\n",
              "  </tbody>\n",
              "</table>\n",
              "</div>"
            ],
            "text/plain": [
              "             Close\n",
              "count  1943.000000\n",
              "mean    323.809050\n",
              "std       3.141389\n",
              "min     317.515000\n",
              "25%     321.630000\n",
              "50%     323.250000\n",
              "75%     324.905000\n",
              "max     331.670000"
            ]
          },
          "metadata": {
            "tags": []
          },
          "execution_count": 7
        }
      ]
    },
    {
      "cell_type": "code",
      "metadata": {
        "colab": {
          "base_uri": "https://localhost:8080/"
        },
        "id": "2osoR0KDmKzP",
        "outputId": "4375ac21-d25c-45b2-e122-71120917423e"
      },
      "source": [
        "df_train.info()"
      ],
      "execution_count": null,
      "outputs": [
        {
          "output_type": "stream",
          "text": [
            "<class 'pandas.core.frame.DataFrame'>\n",
            "RangeIndex: 1943 entries, 0 to 1942\n",
            "Data columns (total 2 columns):\n",
            " #   Column  Non-Null Count  Dtype  \n",
            "---  ------  --------------  -----  \n",
            " 0   Date    1943 non-null   object \n",
            " 1   Close   1943 non-null   float64\n",
            "dtypes: float64(1), object(1)\n",
            "memory usage: 30.5+ KB\n"
          ],
          "name": "stdout"
        }
      ]
    },
    {
      "cell_type": "code",
      "metadata": {
        "id": "GGwCfijXo6Cb"
      },
      "source": [
        "dates = df_train.iloc[:,0].values"
      ],
      "execution_count": null,
      "outputs": []
    },
    {
      "cell_type": "code",
      "metadata": {
        "colab": {
          "base_uri": "https://localhost:8080/"
        },
        "id": "V4t8iq60p-ao",
        "outputId": "d3352430-35ee-4ca2-bdb3-940e7a0a1a29"
      },
      "source": [
        "type(dates)"
      ],
      "execution_count": null,
      "outputs": [
        {
          "output_type": "execute_result",
          "data": {
            "text/plain": [
              "numpy.ndarray"
            ]
          },
          "metadata": {
            "tags": []
          },
          "execution_count": 21
        }
      ]
    },
    {
      "cell_type": "code",
      "metadata": {
        "colab": {
          "base_uri": "https://localhost:8080/"
        },
        "id": "x0z1kzh7qA7U",
        "outputId": "d9342020-e810-454e-dc8e-322ab1ca84ec"
      },
      "source": [
        "dates[:10]"
      ],
      "execution_count": null,
      "outputs": [
        {
          "output_type": "execute_result",
          "data": {
            "text/plain": [
              "array(['2020-06-01 09:31:00', '2020-06-01 09:32:00',\n",
              "       '2020-06-01 09:33:00', '2020-06-01 09:34:00',\n",
              "       '2020-06-01 09:35:00', '2020-06-01 09:36:00',\n",
              "       '2020-06-01 09:37:00', '2020-06-01 09:38:00',\n",
              "       '2020-06-01 09:39:00', '2020-06-01 09:40:00'], dtype=object)"
            ]
          },
          "metadata": {
            "tags": []
          },
          "execution_count": 22
        }
      ]
    },
    {
      "cell_type": "code",
      "metadata": {
        "id": "jm5Wrf8MqRt0"
      },
      "source": [
        "#understanding woring of datetime\n",
        "import datetime\n",
        "from dateutil.parser import parse"
      ],
      "execution_count": null,
      "outputs": []
    },
    {
      "cell_type": "code",
      "metadata": {
        "colab": {
          "base_uri": "https://localhost:8080/"
        },
        "id": "tNiZUt0HqTqo",
        "outputId": "d66e4140-7a20-4f55-a596-dd26484ffc0b"
      },
      "source": [
        "# parses datetime string\n",
        "date = dates[0]\n",
        "d_time = parse(date)\n",
        "type(d_time)  "
      ],
      "execution_count": null,
      "outputs": [
        {
          "output_type": "execute_result",
          "data": {
            "text/plain": [
              "datetime.datetime"
            ]
          },
          "metadata": {
            "tags": []
          },
          "execution_count": 25
        }
      ]
    },
    {
      "cell_type": "code",
      "metadata": {
        "id": "kTSjuSsnBeDG"
      },
      "source": [
        "parse(date)"
      ],
      "execution_count": null,
      "outputs": []
    },
    {
      "cell_type": "code",
      "metadata": {
        "colab": {
          "base_uri": "https://localhost:8080/"
        },
        "id": "Q75VYAcdrteC",
        "outputId": "c9aad209-71a9-4235-ddbf-718bccdab912"
      },
      "source": [
        "print(d_time.time())"
      ],
      "execution_count": null,
      "outputs": [
        {
          "output_type": "stream",
          "text": [
            "09:31:00\n"
          ],
          "name": "stdout"
        }
      ]
    },
    {
      "cell_type": "code",
      "metadata": {
        "colab": {
          "base_uri": "https://localhost:8080/"
        },
        "id": "hfK302MqtP2R",
        "outputId": "394716dc-9c18-4d8f-d2fe-4cecd03b0471"
      },
      "source": [
        "if 5 == 5 :\n",
        "  print(\"true\")"
      ],
      "execution_count": null,
      "outputs": [
        {
          "output_type": "stream",
          "text": [
            "true\n"
          ],
          "name": "stdout"
        }
      ]
    },
    {
      "cell_type": "code",
      "metadata": {
        "colab": {
          "base_uri": "https://localhost:8080/"
        },
        "id": "eLIV9vRmsTmm",
        "outputId": "8e519628-c3b2-432c-fddd-a466c2d506f7"
      },
      "source": [
        "# set target date of 1 day\n",
        "target_date = \"2020-06-01\"\n",
        "t_date = parse(target_date)\n",
        "print(t_date.date())"
      ],
      "execution_count": null,
      "outputs": [
        {
          "output_type": "stream",
          "text": [
            "2020-06-01\n"
          ],
          "name": "stdout"
        }
      ]
    },
    {
      "cell_type": "code",
      "metadata": {
        "id": "j4sMhvEXsrpU"
      },
      "source": [
        "# l2 contains data for date 2020 - 06 - 01\n",
        "target_times_data = []\n",
        "for date in dates:\n",
        "  d_time = parse(date)\n",
        "  if(d_time.date() == t_date.date()):\n",
        "    target_times_data.append(d_time.time())\n",
        "  else :\n",
        "    break"
      ],
      "execution_count": null,
      "outputs": []
    },
    {
      "cell_type": "code",
      "metadata": {
        "colab": {
          "base_uri": "https://localhost:8080/"
        },
        "id": "QnmFGJOVtsX2",
        "outputId": "31c178c1-c260-4fc6-81e6-1ce8f501eba9"
      },
      "source": [
        "len(target_times_data)\n",
        "# found number of entries for that day "
      ],
      "execution_count": null,
      "outputs": [
        {
          "output_type": "execute_result",
          "data": {
            "text/plain": [
              "390"
            ]
          },
          "metadata": {
            "tags": []
          },
          "execution_count": 45
        }
      ]
    },
    {
      "cell_type": "markdown",
      "metadata": {
        "id": "8O6d3ZJ4wsw8"
      },
      "source": [
        "# Apply on plotly\n"
      ]
    },
    {
      "cell_type": "code",
      "metadata": {
        "id": "wq2ntqzyvNNN"
      },
      "source": [
        "# plot an interactive graph\r\n",
        "import plotly.graph_objects as go"
      ],
      "execution_count": null,
      "outputs": []
    },
    {
      "cell_type": "code",
      "metadata": {
        "colab": {
          "base_uri": "https://localhost:8080/",
          "height": 542
        },
        "id": "2J0bTGKExAjh",
        "outputId": "5c7ec33f-5e8d-419f-f85a-a43f2695657b"
      },
      "source": [
        "#graph for day 1\n",
        "fig = go.Figure([go.Scatter(x=df_train['Date'][:390], y=df_train['Close'][:390])])\n",
        "fig.show()"
      ],
      "execution_count": null,
      "outputs": [
        {
          "output_type": "display_data",
          "data": {
            "text/html": [
              "<html>\n",
              "<head><meta charset=\"utf-8\" /></head>\n",
              "<body>\n",
              "    <div>\n",
              "            <script src=\"https://cdnjs.cloudflare.com/ajax/libs/mathjax/2.7.5/MathJax.js?config=TeX-AMS-MML_SVG\"></script><script type=\"text/javascript\">if (window.MathJax) {MathJax.Hub.Config({SVG: {font: \"STIX-Web\"}});}</script>\n",
              "                <script type=\"text/javascript\">window.PlotlyConfig = {MathJaxConfig: 'local'};</script>\n",
              "        <script src=\"https://cdn.plot.ly/plotly-latest.min.js\"></script>    \n",
              "            <div id=\"9a1351a3-c21d-4b55-b372-50a4deacfa11\" class=\"plotly-graph-div\" style=\"height:525px; width:100%;\"></div>\n",
              "            <script type=\"text/javascript\">\n",
              "                \n",
              "                    window.PLOTLYENV=window.PLOTLYENV || {};\n",
              "                    \n",
              "                if (document.getElementById(\"9a1351a3-c21d-4b55-b372-50a4deacfa11\")) {\n",
              "                    Plotly.newPlot(\n",
              "                        '9a1351a3-c21d-4b55-b372-50a4deacfa11',\n",
              "                        [{\"type\": \"scatter\", \"x\": [\"2020-06-01 09:31:00\", \"2020-06-01 09:32:00\", \"2020-06-01 09:33:00\", \"2020-06-01 09:34:00\", \"2020-06-01 09:35:00\", \"2020-06-01 09:36:00\", \"2020-06-01 09:37:00\", \"2020-06-01 09:38:00\", \"2020-06-01 09:39:00\", \"2020-06-01 09:40:00\", \"2020-06-01 09:41:00\", \"2020-06-01 09:42:00\", \"2020-06-01 09:43:00\", \"2020-06-01 09:44:00\", \"2020-06-01 09:45:00\", \"2020-06-01 09:46:00\", \"2020-06-01 09:47:00\", \"2020-06-01 09:48:00\", \"2020-06-01 09:49:00\", \"2020-06-01 09:50:00\", \"2020-06-01 09:51:00\", \"2020-06-01 09:52:00\", \"2020-06-01 09:53:00\", \"2020-06-01 09:54:00\", \"2020-06-01 09:55:00\", \"2020-06-01 09:56:00\", \"2020-06-01 09:57:00\", \"2020-06-01 09:58:00\", \"2020-06-01 09:59:00\", \"2020-06-01 10:00:00\", \"2020-06-01 10:01:00\", \"2020-06-01 10:02:00\", \"2020-06-01 10:03:00\", \"2020-06-01 10:04:00\", \"2020-06-01 10:05:00\", \"2020-06-01 10:06:00\", \"2020-06-01 10:07:00\", \"2020-06-01 10:08:00\", \"2020-06-01 10:09:00\", \"2020-06-01 10:10:00\", \"2020-06-01 10:11:00\", \"2020-06-01 10:12:00\", \"2020-06-01 10:13:00\", \"2020-06-01 10:14:00\", \"2020-06-01 10:15:00\", \"2020-06-01 10:16:00\", \"2020-06-01 10:17:00\", \"2020-06-01 10:18:00\", \"2020-06-01 10:19:00\", \"2020-06-01 10:20:00\", \"2020-06-01 10:21:00\", \"2020-06-01 10:22:00\", \"2020-06-01 10:23:00\", \"2020-06-01 10:24:00\", \"2020-06-01 10:25:00\", \"2020-06-01 10:26:00\", \"2020-06-01 10:27:00\", \"2020-06-01 10:28:00\", \"2020-06-01 10:29:00\", \"2020-06-01 10:30:00\", \"2020-06-01 10:31:00\", \"2020-06-01 10:32:00\", \"2020-06-01 10:33:00\", \"2020-06-01 10:34:00\", \"2020-06-01 10:35:00\", \"2020-06-01 10:36:00\", \"2020-06-01 10:37:00\", \"2020-06-01 10:38:00\", \"2020-06-01 10:39:00\", \"2020-06-01 10:40:00\", \"2020-06-01 10:41:00\", \"2020-06-01 10:42:00\", \"2020-06-01 10:43:00\", \"2020-06-01 10:44:00\", \"2020-06-01 10:45:00\", \"2020-06-01 10:46:00\", \"2020-06-01 10:47:00\", \"2020-06-01 10:48:00\", \"2020-06-01 10:49:00\", \"2020-06-01 10:50:00\", \"2020-06-01 10:51:00\", \"2020-06-01 10:52:00\", \"2020-06-01 10:53:00\", \"2020-06-01 10:54:00\", \"2020-06-01 10:55:00\", \"2020-06-01 10:56:00\", \"2020-06-01 10:57:00\", \"2020-06-01 10:58:00\", \"2020-06-01 10:59:00\", \"2020-06-01 11:00:00\", \"2020-06-01 11:01:00\", \"2020-06-01 11:02:00\", \"2020-06-01 11:03:00\", \"2020-06-01 11:04:00\", \"2020-06-01 11:05:00\", \"2020-06-01 11:06:00\", \"2020-06-01 11:07:00\", \"2020-06-01 11:08:00\", \"2020-06-01 11:09:00\", \"2020-06-01 11:10:00\", \"2020-06-01 11:11:00\", \"2020-06-01 11:12:00\", \"2020-06-01 11:13:00\", \"2020-06-01 11:14:00\", \"2020-06-01 11:15:00\", \"2020-06-01 11:16:00\", \"2020-06-01 11:17:00\", \"2020-06-01 11:18:00\", \"2020-06-01 11:19:00\", \"2020-06-01 11:20:00\", \"2020-06-01 11:21:00\", \"2020-06-01 11:22:00\", \"2020-06-01 11:23:00\", \"2020-06-01 11:24:00\", \"2020-06-01 11:25:00\", \"2020-06-01 11:26:00\", \"2020-06-01 11:27:00\", \"2020-06-01 11:28:00\", \"2020-06-01 11:29:00\", \"2020-06-01 11:30:00\", \"2020-06-01 11:31:00\", \"2020-06-01 11:32:00\", \"2020-06-01 11:33:00\", \"2020-06-01 11:34:00\", \"2020-06-01 11:35:00\", \"2020-06-01 11:36:00\", \"2020-06-01 11:37:00\", \"2020-06-01 11:38:00\", \"2020-06-01 11:39:00\", \"2020-06-01 11:40:00\", \"2020-06-01 11:41:00\", \"2020-06-01 11:42:00\", \"2020-06-01 11:43:00\", \"2020-06-01 11:44:00\", \"2020-06-01 11:45:00\", \"2020-06-01 11:46:00\", \"2020-06-01 11:47:00\", \"2020-06-01 11:48:00\", \"2020-06-01 11:49:00\", \"2020-06-01 11:50:00\", \"2020-06-01 11:51:00\", \"2020-06-01 11:52:00\", \"2020-06-01 11:53:00\", \"2020-06-01 11:54:00\", \"2020-06-01 11:55:00\", \"2020-06-01 11:56:00\", \"2020-06-01 11:57:00\", \"2020-06-01 11:58:00\", \"2020-06-01 11:59:00\", \"2020-06-01 12:00:00\", \"2020-06-01 12:01:00\", \"2020-06-01 12:02:00\", \"2020-06-01 12:03:00\", \"2020-06-01 12:04:00\", \"2020-06-01 12:05:00\", \"2020-06-01 12:06:00\", \"2020-06-01 12:07:00\", \"2020-06-01 12:08:00\", \"2020-06-01 12:09:00\", \"2020-06-01 12:10:00\", \"2020-06-01 12:11:00\", \"2020-06-01 12:12:00\", \"2020-06-01 12:13:00\", \"2020-06-01 12:14:00\", \"2020-06-01 12:15:00\", \"2020-06-01 12:16:00\", \"2020-06-01 12:17:00\", \"2020-06-01 12:18:00\", \"2020-06-01 12:19:00\", \"2020-06-01 12:20:00\", \"2020-06-01 12:21:00\", \"2020-06-01 12:22:00\", \"2020-06-01 12:23:00\", \"2020-06-01 12:24:00\", \"2020-06-01 12:25:00\", \"2020-06-01 12:26:00\", \"2020-06-01 12:27:00\", \"2020-06-01 12:28:00\", \"2020-06-01 12:29:00\", \"2020-06-01 12:30:00\", \"2020-06-01 12:31:00\", \"2020-06-01 12:32:00\", \"2020-06-01 12:33:00\", \"2020-06-01 12:34:00\", \"2020-06-01 12:35:00\", \"2020-06-01 12:36:00\", \"2020-06-01 12:37:00\", \"2020-06-01 12:38:00\", \"2020-06-01 12:39:00\", \"2020-06-01 12:40:00\", \"2020-06-01 12:41:00\", \"2020-06-01 12:42:00\", \"2020-06-01 12:43:00\", \"2020-06-01 12:44:00\", \"2020-06-01 12:45:00\", \"2020-06-01 12:46:00\", \"2020-06-01 12:47:00\", \"2020-06-01 12:48:00\", \"2020-06-01 12:49:00\", \"2020-06-01 12:50:00\", \"2020-06-01 12:51:00\", \"2020-06-01 12:52:00\", \"2020-06-01 12:53:00\", \"2020-06-01 12:54:00\", \"2020-06-01 12:55:00\", \"2020-06-01 12:56:00\", \"2020-06-01 12:57:00\", \"2020-06-01 12:58:00\", \"2020-06-01 12:59:00\", \"2020-06-01 13:00:00\", \"2020-06-01 13:01:00\", \"2020-06-01 13:02:00\", \"2020-06-01 13:03:00\", \"2020-06-01 13:04:00\", \"2020-06-01 13:05:00\", \"2020-06-01 13:06:00\", \"2020-06-01 13:07:00\", \"2020-06-01 13:08:00\", \"2020-06-01 13:09:00\", \"2020-06-01 13:10:00\", \"2020-06-01 13:11:00\", \"2020-06-01 13:12:00\", \"2020-06-01 13:13:00\", \"2020-06-01 13:14:00\", \"2020-06-01 13:15:00\", \"2020-06-01 13:16:00\", \"2020-06-01 13:17:00\", \"2020-06-01 13:18:00\", \"2020-06-01 13:19:00\", \"2020-06-01 13:20:00\", \"2020-06-01 13:21:00\", \"2020-06-01 13:22:00\", \"2020-06-01 13:23:00\", \"2020-06-01 13:24:00\", \"2020-06-01 13:25:00\", \"2020-06-01 13:26:00\", \"2020-06-01 13:27:00\", \"2020-06-01 13:28:00\", \"2020-06-01 13:29:00\", \"2020-06-01 13:30:00\", \"2020-06-01 13:31:00\", \"2020-06-01 13:32:00\", \"2020-06-01 13:33:00\", \"2020-06-01 13:34:00\", \"2020-06-01 13:35:00\", \"2020-06-01 13:36:00\", \"2020-06-01 13:37:00\", \"2020-06-01 13:38:00\", \"2020-06-01 13:39:00\", \"2020-06-01 13:40:00\", \"2020-06-01 13:41:00\", \"2020-06-01 13:42:00\", \"2020-06-01 13:43:00\", \"2020-06-01 13:44:00\", \"2020-06-01 13:45:00\", \"2020-06-01 13:46:00\", \"2020-06-01 13:47:00\", \"2020-06-01 13:48:00\", \"2020-06-01 13:49:00\", \"2020-06-01 13:50:00\", \"2020-06-01 13:51:00\", \"2020-06-01 13:52:00\", \"2020-06-01 13:53:00\", \"2020-06-01 13:54:00\", \"2020-06-01 13:55:00\", \"2020-06-01 13:56:00\", \"2020-06-01 13:57:00\", \"2020-06-01 13:58:00\", \"2020-06-01 13:59:00\", \"2020-06-01 14:00:00\", \"2020-06-01 14:01:00\", \"2020-06-01 14:02:00\", \"2020-06-01 14:03:00\", \"2020-06-01 14:04:00\", \"2020-06-01 14:05:00\", \"2020-06-01 14:06:00\", \"2020-06-01 14:07:00\", \"2020-06-01 14:08:00\", \"2020-06-01 14:09:00\", \"2020-06-01 14:10:00\", \"2020-06-01 14:11:00\", \"2020-06-01 14:12:00\", \"2020-06-01 14:13:00\", \"2020-06-01 14:14:00\", \"2020-06-01 14:15:00\", \"2020-06-01 14:16:00\", \"2020-06-01 14:17:00\", \"2020-06-01 14:18:00\", \"2020-06-01 14:19:00\", \"2020-06-01 14:20:00\", \"2020-06-01 14:21:00\", \"2020-06-01 14:22:00\", \"2020-06-01 14:23:00\", \"2020-06-01 14:24:00\", \"2020-06-01 14:25:00\", \"2020-06-01 14:26:00\", \"2020-06-01 14:27:00\", \"2020-06-01 14:28:00\", \"2020-06-01 14:29:00\", \"2020-06-01 14:30:00\", \"2020-06-01 14:31:00\", \"2020-06-01 14:32:00\", \"2020-06-01 14:33:00\", \"2020-06-01 14:34:00\", \"2020-06-01 14:35:00\", \"2020-06-01 14:36:00\", \"2020-06-01 14:37:00\", \"2020-06-01 14:38:00\", \"2020-06-01 14:39:00\", \"2020-06-01 14:40:00\", \"2020-06-01 14:41:00\", \"2020-06-01 14:42:00\", \"2020-06-01 14:43:00\", \"2020-06-01 14:44:00\", \"2020-06-01 14:45:00\", \"2020-06-01 14:46:00\", \"2020-06-01 14:47:00\", \"2020-06-01 14:48:00\", \"2020-06-01 14:49:00\", \"2020-06-01 14:50:00\", \"2020-06-01 14:51:00\", \"2020-06-01 14:52:00\", \"2020-06-01 14:53:00\", \"2020-06-01 14:54:00\", \"2020-06-01 14:55:00\", \"2020-06-01 14:56:00\", \"2020-06-01 14:57:00\", \"2020-06-01 14:58:00\", \"2020-06-01 14:59:00\", \"2020-06-01 15:00:00\", \"2020-06-01 15:01:00\", \"2020-06-01 15:02:00\", \"2020-06-01 15:03:00\", \"2020-06-01 15:04:00\", \"2020-06-01 15:05:00\", \"2020-06-01 15:06:00\", \"2020-06-01 15:07:00\", \"2020-06-01 15:08:00\", \"2020-06-01 15:09:00\", \"2020-06-01 15:10:00\", \"2020-06-01 15:11:00\", \"2020-06-01 15:12:00\", \"2020-06-01 15:13:00\", \"2020-06-01 15:14:00\", \"2020-06-01 15:15:00\", \"2020-06-01 15:16:00\", \"2020-06-01 15:17:00\", \"2020-06-01 15:18:00\", \"2020-06-01 15:19:00\", \"2020-06-01 15:20:00\", \"2020-06-01 15:21:00\", \"2020-06-01 15:22:00\", \"2020-06-01 15:23:00\", \"2020-06-01 15:24:00\", \"2020-06-01 15:25:00\", \"2020-06-01 15:26:00\", \"2020-06-01 15:27:00\", \"2020-06-01 15:28:00\", \"2020-06-01 15:29:00\", \"2020-06-01 15:30:00\", \"2020-06-01 15:31:00\", \"2020-06-01 15:32:00\", \"2020-06-01 15:33:00\", \"2020-06-01 15:34:00\", \"2020-06-01 15:35:00\", \"2020-06-01 15:36:00\", \"2020-06-01 15:37:00\", \"2020-06-01 15:38:00\", \"2020-06-01 15:39:00\", \"2020-06-01 15:40:00\", \"2020-06-01 15:41:00\", \"2020-06-01 15:42:00\", \"2020-06-01 15:43:00\", \"2020-06-01 15:44:00\", \"2020-06-01 15:45:00\", \"2020-06-01 15:46:00\", \"2020-06-01 15:47:00\", \"2020-06-01 15:48:00\", \"2020-06-01 15:49:00\", \"2020-06-01 15:50:00\", \"2020-06-01 15:51:00\", \"2020-06-01 15:52:00\", \"2020-06-01 15:53:00\", \"2020-06-01 15:54:00\", \"2020-06-01 15:55:00\", \"2020-06-01 15:56:00\", \"2020-06-01 15:57:00\", \"2020-06-01 15:58:00\", \"2020-06-01 15:59:00\", \"2020-06-01 16:00:00\"], \"y\": [317.515, 317.8589, 318.58, 318.13, 318.02, 318.4, 317.99, 318.44, 318.439, 318.2599, 319.07, 319.17, 319.53, 319.43, 319.39, 319.7456, 319.9, 319.945, 320.07, 319.97900000000004, 319.86, 319.785, 319.6656, 319.94, 320.38, 320.2, 320.22, 320.093, 320.31, 320.14, 320.3604, 320.41, 320.26, 320.01, 320.45, 320.7076, 320.65, 320.76, 320.76, 320.68, 320.808, 320.88, 320.95, 320.91, 320.99, 321.02, 321.12, 321.22, 321.34, 321.29, 321.45099999999996, 321.48, 321.56, 321.48, 321.39, 321.32, 321.14, 321.07, 320.9, 321.0, 320.77, 320.7499, 320.99, 321.035, 320.83, 320.91, 320.78, 320.73, 320.6932, 320.6611, 320.9, 320.82, 320.84, 320.78, 320.85, 320.52, 320.631, 320.3799, 320.5108, 320.47, 320.25, 320.34, 320.59, 320.65, 320.65, 320.82, 320.85, 320.8008, 320.87, 320.74, 320.69, 320.4801, 320.3, 320.29, 320.21, 320.33, 320.17, 320.32, 320.42, 320.425, 320.2, 320.56, 320.52, 320.48, 320.5, 320.515, 320.57, 320.43, 320.4, 320.37, 320.23, 320.221, 320.3235, 320.25, 320.01, 320.0, 319.95, 319.77, 319.99, 320.14, 320.07, 320.06, 320.3446, 320.37, 320.51, 320.35, 320.4, 320.38, 320.42, 320.38, 320.26, 320.31, 320.442, 320.4214, 320.39, 320.48, 320.4425, 320.5689, 320.66, 320.5878, 320.46, 320.47, 320.515, 320.59, 320.5901, 320.66, 320.7138, 320.73, 320.6963, 320.69, 320.41, 320.2932, 320.4843, 320.6, 320.6801, 320.64, 320.57, 320.67, 320.55, 320.62, 320.7143, 320.8, 320.83, 320.7293, 320.76, 320.835, 320.77, 320.76, 320.825, 320.77, 320.735, 320.72, 320.78, 320.8, 320.85, 320.85, 320.7753, 320.75, 320.7833, 320.77, 320.84, 320.88, 320.88, 320.91, 320.85, 320.87, 320.855, 320.81, 320.925, 320.87, 320.92, 320.9, 320.9, 320.9796, 320.96, 321.09, 321.0654, 321.11, 321.13, 321.14, 321.125, 321.0878, 321.1738, 321.18, 321.135, 321.14, 321.012, 320.91, 320.96, 320.8866, 321.0, 321.0315, 321.09, 321.26, 321.38, 321.52, 321.642, 321.65, 321.75, 321.83, 321.81, 321.77, 321.8356, 321.87, 321.96, 322.0316, 322.07, 322.09, 322.0135, 321.93, 321.96, 321.94, 321.94, 322.01, 322.055, 322.0042, 322.11, 322.2, 322.21, 322.1, 322.125, 322.13, 322.15, 322.04, 321.85, 321.95, 321.98, 321.995, 322.15, 322.27, 322.315, 322.26, 322.24, 322.15, 322.1722, 322.09, 322.1408, 322.25, 322.1663, 322.13, 322.061, 321.87, 321.76, 321.9595, 321.945, 321.89, 321.89, 322.05, 322.08, 321.97, 322.0209, 322.0199, 321.97, 321.79, 321.8, 321.79, 321.805, 321.895, 321.85, 321.82, 321.88, 321.84, 321.7291, 321.72, 321.72, 321.5352, 321.629, 321.66, 321.7698, 321.6401, 321.64, 321.59, 321.57, 321.4439, 321.54, 321.59, 321.57599999999996, 321.595, 321.67, 321.66, 321.7, 321.77, 321.8125, 321.825, 321.88, 321.69, 321.7951, 321.79, 321.74, 321.84, 321.82, 321.83, 321.76, 321.73, 321.82, 321.85, 321.78, 321.76, 321.85, 322.07, 322.04, 322.0, 321.965, 321.93, 321.995, 321.99, 321.99, 322.18, 322.1485, 322.23, 322.24, 322.23, 322.21, 322.29, 322.31, 322.1999, 321.97, 322.22, 322.07, 322.13, 321.9934, 321.995, 321.825, 321.81, 321.689, 321.66, 321.7319, 321.73, 321.68, 321.7978, 321.78, 321.75, 321.69, 321.7301, 321.8, 321.9522, 321.98, 321.9618, 321.9999, 322.02, 321.7899, 322.05, 322.08, 322.06, 322.03, 322.01, 321.73, 321.8399, 321.7571, 321.66, 321.5, 321.58, 321.71, 321.8301, 321.9512, 321.81, 321.91, 321.665, 321.5901, 321.63, 321.95, 321.96, 321.795, 321.75, 321.88, 321.97, 321.92, 321.96, 321.97, 321.76]}],\n",
              "                        {\"template\": {\"data\": {\"bar\": [{\"error_x\": {\"color\": \"#2a3f5f\"}, \"error_y\": {\"color\": \"#2a3f5f\"}, \"marker\": {\"line\": {\"color\": \"#E5ECF6\", \"width\": 0.5}}, \"type\": \"bar\"}], \"barpolar\": [{\"marker\": {\"line\": {\"color\": \"#E5ECF6\", \"width\": 0.5}}, \"type\": \"barpolar\"}], \"carpet\": [{\"aaxis\": {\"endlinecolor\": \"#2a3f5f\", \"gridcolor\": \"white\", \"linecolor\": \"white\", \"minorgridcolor\": \"white\", \"startlinecolor\": \"#2a3f5f\"}, \"baxis\": {\"endlinecolor\": \"#2a3f5f\", \"gridcolor\": \"white\", \"linecolor\": \"white\", \"minorgridcolor\": \"white\", \"startlinecolor\": \"#2a3f5f\"}, \"type\": \"carpet\"}], \"choropleth\": [{\"colorbar\": {\"outlinewidth\": 0, \"ticks\": \"\"}, \"type\": \"choropleth\"}], \"contour\": [{\"colorbar\": {\"outlinewidth\": 0, \"ticks\": \"\"}, \"colorscale\": [[0.0, \"#0d0887\"], [0.1111111111111111, \"#46039f\"], [0.2222222222222222, \"#7201a8\"], [0.3333333333333333, \"#9c179e\"], [0.4444444444444444, \"#bd3786\"], [0.5555555555555556, \"#d8576b\"], [0.6666666666666666, \"#ed7953\"], [0.7777777777777778, \"#fb9f3a\"], [0.8888888888888888, \"#fdca26\"], [1.0, \"#f0f921\"]], \"type\": \"contour\"}], \"contourcarpet\": [{\"colorbar\": {\"outlinewidth\": 0, \"ticks\": \"\"}, \"type\": \"contourcarpet\"}], \"heatmap\": [{\"colorbar\": {\"outlinewidth\": 0, \"ticks\": \"\"}, \"colorscale\": [[0.0, \"#0d0887\"], [0.1111111111111111, \"#46039f\"], [0.2222222222222222, \"#7201a8\"], [0.3333333333333333, \"#9c179e\"], [0.4444444444444444, \"#bd3786\"], [0.5555555555555556, \"#d8576b\"], [0.6666666666666666, \"#ed7953\"], [0.7777777777777778, \"#fb9f3a\"], [0.8888888888888888, \"#fdca26\"], [1.0, \"#f0f921\"]], \"type\": \"heatmap\"}], \"heatmapgl\": [{\"colorbar\": {\"outlinewidth\": 0, \"ticks\": \"\"}, \"colorscale\": [[0.0, \"#0d0887\"], [0.1111111111111111, \"#46039f\"], [0.2222222222222222, \"#7201a8\"], [0.3333333333333333, \"#9c179e\"], [0.4444444444444444, \"#bd3786\"], [0.5555555555555556, \"#d8576b\"], [0.6666666666666666, \"#ed7953\"], [0.7777777777777778, \"#fb9f3a\"], [0.8888888888888888, \"#fdca26\"], [1.0, \"#f0f921\"]], \"type\": \"heatmapgl\"}], \"histogram\": [{\"marker\": {\"colorbar\": {\"outlinewidth\": 0, \"ticks\": \"\"}}, \"type\": \"histogram\"}], \"histogram2d\": [{\"colorbar\": {\"outlinewidth\": 0, \"ticks\": \"\"}, \"colorscale\": [[0.0, \"#0d0887\"], [0.1111111111111111, \"#46039f\"], [0.2222222222222222, \"#7201a8\"], [0.3333333333333333, \"#9c179e\"], [0.4444444444444444, \"#bd3786\"], [0.5555555555555556, \"#d8576b\"], [0.6666666666666666, \"#ed7953\"], [0.7777777777777778, \"#fb9f3a\"], [0.8888888888888888, \"#fdca26\"], [1.0, \"#f0f921\"]], \"type\": \"histogram2d\"}], \"histogram2dcontour\": [{\"colorbar\": {\"outlinewidth\": 0, \"ticks\": \"\"}, \"colorscale\": [[0.0, \"#0d0887\"], [0.1111111111111111, \"#46039f\"], [0.2222222222222222, \"#7201a8\"], [0.3333333333333333, \"#9c179e\"], [0.4444444444444444, \"#bd3786\"], [0.5555555555555556, \"#d8576b\"], [0.6666666666666666, \"#ed7953\"], [0.7777777777777778, \"#fb9f3a\"], [0.8888888888888888, \"#fdca26\"], [1.0, \"#f0f921\"]], \"type\": \"histogram2dcontour\"}], \"mesh3d\": [{\"colorbar\": {\"outlinewidth\": 0, \"ticks\": \"\"}, \"type\": \"mesh3d\"}], \"parcoords\": [{\"line\": {\"colorbar\": {\"outlinewidth\": 0, \"ticks\": \"\"}}, \"type\": \"parcoords\"}], \"pie\": [{\"automargin\": true, \"type\": \"pie\"}], \"scatter\": [{\"marker\": {\"colorbar\": {\"outlinewidth\": 0, \"ticks\": \"\"}}, \"type\": \"scatter\"}], \"scatter3d\": [{\"line\": {\"colorbar\": {\"outlinewidth\": 0, \"ticks\": \"\"}}, \"marker\": {\"colorbar\": {\"outlinewidth\": 0, \"ticks\": \"\"}}, \"type\": \"scatter3d\"}], \"scattercarpet\": [{\"marker\": {\"colorbar\": {\"outlinewidth\": 0, \"ticks\": \"\"}}, \"type\": \"scattercarpet\"}], \"scattergeo\": [{\"marker\": {\"colorbar\": {\"outlinewidth\": 0, \"ticks\": \"\"}}, \"type\": \"scattergeo\"}], \"scattergl\": [{\"marker\": {\"colorbar\": {\"outlinewidth\": 0, \"ticks\": \"\"}}, \"type\": \"scattergl\"}], \"scattermapbox\": [{\"marker\": {\"colorbar\": {\"outlinewidth\": 0, \"ticks\": \"\"}}, \"type\": \"scattermapbox\"}], \"scatterpolar\": [{\"marker\": {\"colorbar\": {\"outlinewidth\": 0, \"ticks\": \"\"}}, \"type\": \"scatterpolar\"}], \"scatterpolargl\": [{\"marker\": {\"colorbar\": {\"outlinewidth\": 0, \"ticks\": \"\"}}, \"type\": \"scatterpolargl\"}], \"scatterternary\": [{\"marker\": {\"colorbar\": {\"outlinewidth\": 0, \"ticks\": \"\"}}, \"type\": \"scatterternary\"}], \"surface\": [{\"colorbar\": {\"outlinewidth\": 0, \"ticks\": \"\"}, \"colorscale\": [[0.0, \"#0d0887\"], [0.1111111111111111, \"#46039f\"], [0.2222222222222222, \"#7201a8\"], [0.3333333333333333, \"#9c179e\"], [0.4444444444444444, \"#bd3786\"], [0.5555555555555556, \"#d8576b\"], [0.6666666666666666, \"#ed7953\"], [0.7777777777777778, \"#fb9f3a\"], [0.8888888888888888, \"#fdca26\"], [1.0, \"#f0f921\"]], \"type\": \"surface\"}], \"table\": [{\"cells\": {\"fill\": {\"color\": \"#EBF0F8\"}, \"line\": {\"color\": \"white\"}}, \"header\": {\"fill\": {\"color\": \"#C8D4E3\"}, \"line\": {\"color\": \"white\"}}, \"type\": \"table\"}]}, \"layout\": {\"annotationdefaults\": {\"arrowcolor\": \"#2a3f5f\", \"arrowhead\": 0, \"arrowwidth\": 1}, \"coloraxis\": {\"colorbar\": {\"outlinewidth\": 0, \"ticks\": \"\"}}, \"colorscale\": {\"diverging\": [[0, \"#8e0152\"], [0.1, \"#c51b7d\"], [0.2, \"#de77ae\"], [0.3, \"#f1b6da\"], [0.4, \"#fde0ef\"], [0.5, \"#f7f7f7\"], [0.6, \"#e6f5d0\"], [0.7, \"#b8e186\"], [0.8, \"#7fbc41\"], [0.9, \"#4d9221\"], [1, \"#276419\"]], \"sequential\": [[0.0, \"#0d0887\"], [0.1111111111111111, \"#46039f\"], [0.2222222222222222, \"#7201a8\"], [0.3333333333333333, \"#9c179e\"], [0.4444444444444444, \"#bd3786\"], [0.5555555555555556, \"#d8576b\"], [0.6666666666666666, \"#ed7953\"], [0.7777777777777778, \"#fb9f3a\"], [0.8888888888888888, \"#fdca26\"], [1.0, \"#f0f921\"]], \"sequentialminus\": [[0.0, \"#0d0887\"], [0.1111111111111111, \"#46039f\"], [0.2222222222222222, \"#7201a8\"], [0.3333333333333333, \"#9c179e\"], [0.4444444444444444, \"#bd3786\"], [0.5555555555555556, \"#d8576b\"], [0.6666666666666666, \"#ed7953\"], [0.7777777777777778, \"#fb9f3a\"], [0.8888888888888888, \"#fdca26\"], [1.0, \"#f0f921\"]]}, \"colorway\": [\"#636efa\", \"#EF553B\", \"#00cc96\", \"#ab63fa\", \"#FFA15A\", \"#19d3f3\", \"#FF6692\", \"#B6E880\", \"#FF97FF\", \"#FECB52\"], \"font\": {\"color\": \"#2a3f5f\"}, \"geo\": {\"bgcolor\": \"white\", \"lakecolor\": \"white\", \"landcolor\": \"#E5ECF6\", \"showlakes\": true, \"showland\": true, \"subunitcolor\": \"white\"}, \"hoverlabel\": {\"align\": \"left\"}, \"hovermode\": \"closest\", \"mapbox\": {\"style\": \"light\"}, \"paper_bgcolor\": \"white\", \"plot_bgcolor\": \"#E5ECF6\", \"polar\": {\"angularaxis\": {\"gridcolor\": \"white\", \"linecolor\": \"white\", \"ticks\": \"\"}, \"bgcolor\": \"#E5ECF6\", \"radialaxis\": {\"gridcolor\": \"white\", \"linecolor\": \"white\", \"ticks\": \"\"}}, \"scene\": {\"xaxis\": {\"backgroundcolor\": \"#E5ECF6\", \"gridcolor\": \"white\", \"gridwidth\": 2, \"linecolor\": \"white\", \"showbackground\": true, \"ticks\": \"\", \"zerolinecolor\": \"white\"}, \"yaxis\": {\"backgroundcolor\": \"#E5ECF6\", \"gridcolor\": \"white\", \"gridwidth\": 2, \"linecolor\": \"white\", \"showbackground\": true, \"ticks\": \"\", \"zerolinecolor\": \"white\"}, \"zaxis\": {\"backgroundcolor\": \"#E5ECF6\", \"gridcolor\": \"white\", \"gridwidth\": 2, \"linecolor\": \"white\", \"showbackground\": true, \"ticks\": \"\", \"zerolinecolor\": \"white\"}}, \"shapedefaults\": {\"line\": {\"color\": \"#2a3f5f\"}}, \"ternary\": {\"aaxis\": {\"gridcolor\": \"white\", \"linecolor\": \"white\", \"ticks\": \"\"}, \"baxis\": {\"gridcolor\": \"white\", \"linecolor\": \"white\", \"ticks\": \"\"}, \"bgcolor\": \"#E5ECF6\", \"caxis\": {\"gridcolor\": \"white\", \"linecolor\": \"white\", \"ticks\": \"\"}}, \"title\": {\"x\": 0.05}, \"xaxis\": {\"automargin\": true, \"gridcolor\": \"white\", \"linecolor\": \"white\", \"ticks\": \"\", \"title\": {\"standoff\": 15}, \"zerolinecolor\": \"white\", \"zerolinewidth\": 2}, \"yaxis\": {\"automargin\": true, \"gridcolor\": \"white\", \"linecolor\": \"white\", \"ticks\": \"\", \"title\": {\"standoff\": 15}, \"zerolinecolor\": \"white\", \"zerolinewidth\": 2}}}},\n",
              "                        {\"responsive\": true}\n",
              "                    ).then(function(){\n",
              "                            \n",
              "var gd = document.getElementById('9a1351a3-c21d-4b55-b372-50a4deacfa11');\n",
              "var x = new MutationObserver(function (mutations, observer) {{\n",
              "        var display = window.getComputedStyle(gd).display;\n",
              "        if (!display || display === 'none') {{\n",
              "            console.log([gd, 'removed!']);\n",
              "            Plotly.purge(gd);\n",
              "            observer.disconnect();\n",
              "        }}\n",
              "}});\n",
              "\n",
              "// Listen for the removal of the full notebook cells\n",
              "var notebookContainer = gd.closest('#notebook-container');\n",
              "if (notebookContainer) {{\n",
              "    x.observe(notebookContainer, {childList: true});\n",
              "}}\n",
              "\n",
              "// Listen for the clearing of the current output cell\n",
              "var outputEl = gd.closest('.output');\n",
              "if (outputEl) {{\n",
              "    x.observe(outputEl, {childList: true});\n",
              "}}\n",
              "\n",
              "                        })\n",
              "                };\n",
              "                \n",
              "            </script>\n",
              "        </div>\n",
              "</body>\n",
              "</html>"
            ]
          },
          "metadata": {
            "tags": []
          }
        }
      ]
    },
    {
      "cell_type": "code",
      "metadata": {
        "id": "yHvagLZCzAqC"
      },
      "source": [
        "!pip install plotly>=4.7.1\n",
        "!wget https://github.com/plotly/orca/releases/download/v1.2.1/orca-1.2.1-x86_64.AppImage -O /usr/local/bin/orca\n",
        "!chmod +x /usr/local/bin/orca\n",
        "!apt-get install xvfb libgtk2.0-0 libgconf-2-4"
      ],
      "execution_count": null,
      "outputs": []
    },
    {
      "cell_type": "code",
      "metadata": {
        "id": "JoNfJPm_xDe5"
      },
      "source": [
        "fig.write_image(\"fig1.png\")"
      ],
      "execution_count": null,
      "outputs": []
    },
    {
      "cell_type": "code",
      "metadata": {
        "id": "PLz2CQ7vyyXU"
      },
      "source": [
        ""
      ],
      "execution_count": null,
      "outputs": []
    }
  ]
}